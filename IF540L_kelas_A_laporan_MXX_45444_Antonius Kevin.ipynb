{
 "cells": [
  {
   "cell_type": "markdown",
   "id": "aea691db",
   "metadata": {},
   "source": [
    "## <div align=\"center\"> TUGAS LAB IF540 MACHINE LEARNING </div>\n",
    "### <div align=\"center\"> WEEK [--] : [TOPIC] </div>\n",
    "\n",
    "#### <div align=\"center\"> Semester Ganjil 2022/2023 </div>"
   ]
  },
  {
   "cell_type": "code",
   "execution_count": null,
   "id": "ad81e0ee",
   "metadata": {},
   "outputs": [],
   "source": [
    "import datetime\n",
    "import uuid    \n",
    "\n",
    "# Fill in your name and NIM\n",
    "myName = \"Antonius Kevin Budi Saputra\"\n",
    "myNIM = \"45444\"\n",
    "\n",
    "myDate = datetime.datetime.now()\n",
    "myDevice = str(uuid.uuid1())\n",
    "\n",
    "# Header\n",
    "print(\"Name: \\t\\t{}\".format(myName))\n",
    "print(\"NIM: \\t\\t{}\".format(myNIM))\n",
    "print(\"Start: \\t\\t{}\".format(myDate))\n",
    "print(\"Device ID: \\t{}\".format(myDevice))"
   ]
  },
  {
   "cell_type": "markdown",
   "id": "ce3f5e6e",
   "metadata": {},
   "source": [
    "\n",
    "---\n",
    "\n",
    "### Dataset yang dipakai:\n",
    "\n",
    "1. [Nama dataset1] – sumber : [cantumkan link dataset]\n",
    "2. [Nama dataset2] – sumber : [cantumkan link dataset]\n",
    "\n",
    "### Hasil kerja"
   ]
  },
  {
   "cell_type": "code",
   "execution_count": 1,
   "id": "d8c4470e",
   "metadata": {},
   "outputs": [],
   "source": [
    "import sys\n",
    "import tensorflow.keras as tk\n",
    "import pandas as pd\n",
    "import sklearn as sk\n",
    "import tensorflow as tf\n",
    "import numpy as np\n",
    "import matplotlib.pyplot as plt"
   ]
  },
  {
   "cell_type": "code",
   "execution_count": 2,
   "id": "c2141013",
   "metadata": {},
   "outputs": [],
   "source": [
    "covid = pd.read_csv(\"COVID-19.csv\")"
   ]
  },
  {
   "cell_type": "code",
   "execution_count": 3,
   "id": "c33a379e",
   "metadata": {},
   "outputs": [
    {
     "data": {
      "text/html": [
       "<div>\n",
       "<style scoped>\n",
       "    .dataframe tbody tr th:only-of-type {\n",
       "        vertical-align: middle;\n",
       "    }\n",
       "\n",
       "    .dataframe tbody tr th {\n",
       "        vertical-align: top;\n",
       "    }\n",
       "\n",
       "    .dataframe thead th {\n",
       "        text-align: right;\n",
       "    }\n",
       "</style>\n",
       "<table border=\"1\" class=\"dataframe\">\n",
       "  <thead>\n",
       "    <tr style=\"text-align: right;\">\n",
       "      <th></th>\n",
       "      <th>iso</th>\n",
       "      <th>country</th>\n",
       "      <th>date</th>\n",
       "      <th>grocery_and_pharmacy_percent_change_from_baseline</th>\n",
       "      <th>parks_percent_change_from_baseline</th>\n",
       "      <th>residential_percent_change_from_baseline</th>\n",
       "      <th>retail_and_recreation_percent_change_from_baseline</th>\n",
       "      <th>transit_stations_percent_change_from_baseline</th>\n",
       "      <th>workplaces_percent_change_from_baseline</th>\n",
       "      <th>confirmed_cases</th>\n",
       "      <th>...</th>\n",
       "      <th>total_tests</th>\n",
       "      <th>total_vaccinations</th>\n",
       "      <th>people_vaccinated</th>\n",
       "      <th>people_fully_vaccinated</th>\n",
       "      <th>gdp_ppp_per_capita</th>\n",
       "      <th>population</th>\n",
       "      <th>population_density</th>\n",
       "      <th>human_development_index</th>\n",
       "      <th>pop_age_above_65_percentage</th>\n",
       "      <th>health_index</th>\n",
       "    </tr>\n",
       "  </thead>\n",
       "  <tbody>\n",
       "    <tr>\n",
       "      <th>0</th>\n",
       "      <td>AE</td>\n",
       "      <td>United Arab Emirates</td>\n",
       "      <td>2020-02-15</td>\n",
       "      <td>4.0</td>\n",
       "      <td>5.0</td>\n",
       "      <td>1.0</td>\n",
       "      <td>0.0</td>\n",
       "      <td>0.0</td>\n",
       "      <td>2.0</td>\n",
       "      <td>8</td>\n",
       "      <td>...</td>\n",
       "      <td>NaN</td>\n",
       "      <td>NaN</td>\n",
       "      <td>NaN</td>\n",
       "      <td>NaN</td>\n",
       "      <td>75075.26</td>\n",
       "      <td>9865845.0</td>\n",
       "      <td>118.0</td>\n",
       "      <td>0.866</td>\n",
       "      <td>1.09</td>\n",
       "      <td>0.886</td>\n",
       "    </tr>\n",
       "    <tr>\n",
       "      <th>1</th>\n",
       "      <td>AE</td>\n",
       "      <td>United Arab Emirates</td>\n",
       "      <td>2020-02-16</td>\n",
       "      <td>4.0</td>\n",
       "      <td>4.0</td>\n",
       "      <td>1.0</td>\n",
       "      <td>1.0</td>\n",
       "      <td>1.0</td>\n",
       "      <td>2.0</td>\n",
       "      <td>9</td>\n",
       "      <td>...</td>\n",
       "      <td>5042.0</td>\n",
       "      <td>NaN</td>\n",
       "      <td>NaN</td>\n",
       "      <td>NaN</td>\n",
       "      <td>75075.26</td>\n",
       "      <td>9865845.0</td>\n",
       "      <td>118.0</td>\n",
       "      <td>0.866</td>\n",
       "      <td>1.09</td>\n",
       "      <td>0.886</td>\n",
       "    </tr>\n",
       "    <tr>\n",
       "      <th>2</th>\n",
       "      <td>AE</td>\n",
       "      <td>United Arab Emirates</td>\n",
       "      <td>2020-02-17</td>\n",
       "      <td>1.0</td>\n",
       "      <td>5.0</td>\n",
       "      <td>1.0</td>\n",
       "      <td>-1.0</td>\n",
       "      <td>1.0</td>\n",
       "      <td>2.0</td>\n",
       "      <td>9</td>\n",
       "      <td>...</td>\n",
       "      <td>NaN</td>\n",
       "      <td>NaN</td>\n",
       "      <td>NaN</td>\n",
       "      <td>NaN</td>\n",
       "      <td>75075.26</td>\n",
       "      <td>9865845.0</td>\n",
       "      <td>118.0</td>\n",
       "      <td>0.866</td>\n",
       "      <td>1.09</td>\n",
       "      <td>0.886</td>\n",
       "    </tr>\n",
       "    <tr>\n",
       "      <th>3</th>\n",
       "      <td>AE</td>\n",
       "      <td>United Arab Emirates</td>\n",
       "      <td>2020-02-18</td>\n",
       "      <td>1.0</td>\n",
       "      <td>5.0</td>\n",
       "      <td>1.0</td>\n",
       "      <td>-2.0</td>\n",
       "      <td>0.0</td>\n",
       "      <td>2.0</td>\n",
       "      <td>9</td>\n",
       "      <td>...</td>\n",
       "      <td>6693.0</td>\n",
       "      <td>NaN</td>\n",
       "      <td>NaN</td>\n",
       "      <td>NaN</td>\n",
       "      <td>75075.26</td>\n",
       "      <td>9865845.0</td>\n",
       "      <td>118.0</td>\n",
       "      <td>0.866</td>\n",
       "      <td>1.09</td>\n",
       "      <td>0.886</td>\n",
       "    </tr>\n",
       "    <tr>\n",
       "      <th>4</th>\n",
       "      <td>AE</td>\n",
       "      <td>United Arab Emirates</td>\n",
       "      <td>2020-02-19</td>\n",
       "      <td>0.0</td>\n",
       "      <td>4.0</td>\n",
       "      <td>1.0</td>\n",
       "      <td>-2.0</td>\n",
       "      <td>-1.0</td>\n",
       "      <td>2.0</td>\n",
       "      <td>9</td>\n",
       "      <td>...</td>\n",
       "      <td>NaN</td>\n",
       "      <td>NaN</td>\n",
       "      <td>NaN</td>\n",
       "      <td>NaN</td>\n",
       "      <td>75075.26</td>\n",
       "      <td>9865845.0</td>\n",
       "      <td>118.0</td>\n",
       "      <td>0.866</td>\n",
       "      <td>1.09</td>\n",
       "      <td>0.886</td>\n",
       "    </tr>\n",
       "  </tbody>\n",
       "</table>\n",
       "<p>5 rows × 22 columns</p>\n",
       "</div>"
      ],
      "text/plain": [
       "  iso               country        date  \\\n",
       "0  AE  United Arab Emirates  2020-02-15   \n",
       "1  AE  United Arab Emirates  2020-02-16   \n",
       "2  AE  United Arab Emirates  2020-02-17   \n",
       "3  AE  United Arab Emirates  2020-02-18   \n",
       "4  AE  United Arab Emirates  2020-02-19   \n",
       "\n",
       "   grocery_and_pharmacy_percent_change_from_baseline  \\\n",
       "0                                                4.0   \n",
       "1                                                4.0   \n",
       "2                                                1.0   \n",
       "3                                                1.0   \n",
       "4                                                0.0   \n",
       "\n",
       "   parks_percent_change_from_baseline  \\\n",
       "0                                 5.0   \n",
       "1                                 4.0   \n",
       "2                                 5.0   \n",
       "3                                 5.0   \n",
       "4                                 4.0   \n",
       "\n",
       "   residential_percent_change_from_baseline  \\\n",
       "0                                       1.0   \n",
       "1                                       1.0   \n",
       "2                                       1.0   \n",
       "3                                       1.0   \n",
       "4                                       1.0   \n",
       "\n",
       "   retail_and_recreation_percent_change_from_baseline  \\\n",
       "0                                                0.0    \n",
       "1                                                1.0    \n",
       "2                                               -1.0    \n",
       "3                                               -2.0    \n",
       "4                                               -2.0    \n",
       "\n",
       "   transit_stations_percent_change_from_baseline  \\\n",
       "0                                            0.0   \n",
       "1                                            1.0   \n",
       "2                                            1.0   \n",
       "3                                            0.0   \n",
       "4                                           -1.0   \n",
       "\n",
       "   workplaces_percent_change_from_baseline  confirmed_cases  ...  total_tests  \\\n",
       "0                                      2.0                8  ...          NaN   \n",
       "1                                      2.0                9  ...       5042.0   \n",
       "2                                      2.0                9  ...          NaN   \n",
       "3                                      2.0                9  ...       6693.0   \n",
       "4                                      2.0                9  ...          NaN   \n",
       "\n",
       "   total_vaccinations  people_vaccinated  people_fully_vaccinated  \\\n",
       "0                 NaN                NaN                      NaN   \n",
       "1                 NaN                NaN                      NaN   \n",
       "2                 NaN                NaN                      NaN   \n",
       "3                 NaN                NaN                      NaN   \n",
       "4                 NaN                NaN                      NaN   \n",
       "\n",
       "   gdp_ppp_per_capita  population  population_density  \\\n",
       "0            75075.26   9865845.0               118.0   \n",
       "1            75075.26   9865845.0               118.0   \n",
       "2            75075.26   9865845.0               118.0   \n",
       "3            75075.26   9865845.0               118.0   \n",
       "4            75075.26   9865845.0               118.0   \n",
       "\n",
       "   human_development_index  pop_age_above_65_percentage  health_index  \n",
       "0                    0.866                         1.09         0.886  \n",
       "1                    0.866                         1.09         0.886  \n",
       "2                    0.866                         1.09         0.886  \n",
       "3                    0.866                         1.09         0.886  \n",
       "4                    0.866                         1.09         0.886  \n",
       "\n",
       "[5 rows x 22 columns]"
      ]
     },
     "execution_count": 3,
     "metadata": {},
     "output_type": "execute_result"
    }
   ],
   "source": [
    "covid.head()"
   ]
  },
  {
   "cell_type": "code",
   "execution_count": 4,
   "id": "502461b4",
   "metadata": {},
   "outputs": [],
   "source": [
    "covid = covid[covid[\"country\"]==\"Indonesia\"]"
   ]
  },
  {
   "cell_type": "code",
   "execution_count": 5,
   "id": "078a40f0",
   "metadata": {},
   "outputs": [
    {
     "name": "stdout",
     "output_type": "stream",
     "text": [
      "<class 'pandas.core.frame.DataFrame'>\n",
      "Int64Index: 403 entries, 20832 to 21234\n",
      "Data columns (total 22 columns):\n",
      " #   Column                                              Non-Null Count  Dtype  \n",
      "---  ------                                              --------------  -----  \n",
      " 0   iso                                                 403 non-null    object \n",
      " 1   country                                             403 non-null    object \n",
      " 2   date                                                403 non-null    object \n",
      " 3   grocery_and_pharmacy_percent_change_from_baseline   403 non-null    float64\n",
      " 4   parks_percent_change_from_baseline                  403 non-null    float64\n",
      " 5   residential_percent_change_from_baseline            403 non-null    float64\n",
      " 6   retail_and_recreation_percent_change_from_baseline  403 non-null    float64\n",
      " 7   transit_stations_percent_change_from_baseline       403 non-null    float64\n",
      " 8   workplaces_percent_change_from_baseline             403 non-null    float64\n",
      " 9   confirmed_cases                                     403 non-null    int64  \n",
      " 10  confirmed_deaths                                    403 non-null    int64  \n",
      " 11  gov_response_stringency_index                       402 non-null    float64\n",
      " 12  total_tests                                         0 non-null      float64\n",
      " 13  total_vaccinations                                  53 non-null     float64\n",
      " 14  people_vaccinated                                   53 non-null     float64\n",
      " 15  people_fully_vaccinated                             47 non-null     float64\n",
      " 16  gdp_ppp_per_capita                                  403 non-null    float64\n",
      " 17  population                                          403 non-null    float64\n",
      " 18  population_density                                  403 non-null    float64\n",
      " 19  human_development_index                             403 non-null    float64\n",
      " 20  pop_age_above_65_percentage                         403 non-null    float64\n",
      " 21  health_index                                        403 non-null    float64\n",
      "dtypes: float64(17), int64(2), object(3)\n",
      "memory usage: 72.4+ KB\n"
     ]
    }
   ],
   "source": [
    "covid.info()"
   ]
  },
  {
   "cell_type": "code",
   "execution_count": 6,
   "id": "199e8c7e",
   "metadata": {},
   "outputs": [
    {
     "data": {
      "text/plain": [
       "Index(['iso', 'country', 'date',\n",
       "       'grocery_and_pharmacy_percent_change_from_baseline',\n",
       "       'parks_percent_change_from_baseline',\n",
       "       'residential_percent_change_from_baseline',\n",
       "       'retail_and_recreation_percent_change_from_baseline',\n",
       "       'transit_stations_percent_change_from_baseline',\n",
       "       'workplaces_percent_change_from_baseline', 'confirmed_cases',\n",
       "       'confirmed_deaths', 'gov_response_stringency_index', 'total_tests',\n",
       "       'total_vaccinations', 'people_vaccinated', 'people_fully_vaccinated',\n",
       "       'gdp_ppp_per_capita', 'population', 'population_density',\n",
       "       'human_development_index', 'pop_age_above_65_percentage',\n",
       "       'health_index'],\n",
       "      dtype='object')"
      ]
     },
     "execution_count": 6,
     "metadata": {},
     "output_type": "execute_result"
    }
   ],
   "source": [
    "covid.columns"
   ]
  },
  {
   "cell_type": "code",
   "execution_count": 7,
   "id": "0db1116b",
   "metadata": {},
   "outputs": [],
   "source": [
    "covid.drop(columns=['iso', 'country', 'date',\n",
    "       'confirmed_deaths', 'gov_response_stringency_index', 'total_tests',\n",
    "       'total_vaccinations', 'people_vaccinated', 'people_fully_vaccinated',\n",
    "       'gdp_ppp_per_capita', 'population', 'population_density',\n",
    "       'human_development_index', 'pop_age_above_65_percentage',\n",
    "       'health_index'], inplace=True)"
   ]
  },
  {
   "cell_type": "code",
   "execution_count": 8,
   "id": "0c78ec70",
   "metadata": {
    "scrolled": true
   },
   "outputs": [
    {
     "data": {
      "text/plain": [
       "grocery_and_pharmacy_percent_change_from_baseline     0\n",
       "parks_percent_change_from_baseline                    0\n",
       "residential_percent_change_from_baseline              0\n",
       "retail_and_recreation_percent_change_from_baseline    0\n",
       "transit_stations_percent_change_from_baseline         0\n",
       "workplaces_percent_change_from_baseline               0\n",
       "confirmed_cases                                       0\n",
       "dtype: int64"
      ]
     },
     "execution_count": 8,
     "metadata": {},
     "output_type": "execute_result"
    }
   ],
   "source": [
    "covid.isna().sum()"
   ]
  },
  {
   "cell_type": "code",
   "execution_count": 9,
   "id": "052b03fc",
   "metadata": {},
   "outputs": [],
   "source": [
    "covid.dropna(subset=['grocery_and_pharmacy_percent_change_from_baseline',\n",
    "       'parks_percent_change_from_baseline',\n",
    "       'residential_percent_change_from_baseline',\n",
    "       'retail_and_recreation_percent_change_from_baseline',\n",
    "       'transit_stations_percent_change_from_baseline',\n",
    "       'workplaces_percent_change_from_baseline',], inplace=True)"
   ]
  },
  {
   "cell_type": "code",
   "execution_count": 10,
   "id": "ec8f5d60",
   "metadata": {
    "scrolled": true
   },
   "outputs": [
    {
     "name": "stdout",
     "output_type": "stream",
     "text": [
      "<class 'pandas.core.frame.DataFrame'>\n",
      "Int64Index: 403 entries, 20832 to 21234\n",
      "Data columns (total 7 columns):\n",
      " #   Column                                              Non-Null Count  Dtype  \n",
      "---  ------                                              --------------  -----  \n",
      " 0   grocery_and_pharmacy_percent_change_from_baseline   403 non-null    float64\n",
      " 1   parks_percent_change_from_baseline                  403 non-null    float64\n",
      " 2   residential_percent_change_from_baseline            403 non-null    float64\n",
      " 3   retail_and_recreation_percent_change_from_baseline  403 non-null    float64\n",
      " 4   transit_stations_percent_change_from_baseline       403 non-null    float64\n",
      " 5   workplaces_percent_change_from_baseline             403 non-null    float64\n",
      " 6   confirmed_cases                                     403 non-null    int64  \n",
      "dtypes: float64(6), int64(1)\n",
      "memory usage: 25.2 KB\n"
     ]
    }
   ],
   "source": [
    "covid.info()"
   ]
  },
  {
   "cell_type": "code",
   "execution_count": null,
   "id": "a1ee7fc0",
   "metadata": {},
   "outputs": [],
   "source": [
    "covid.fillna(0, inplace=True)"
   ]
  },
  {
   "cell_type": "code",
   "execution_count": 11,
   "id": "d83a5526",
   "metadata": {},
   "outputs": [
    {
     "data": {
      "text/plain": [
       "grocery_and_pharmacy_percent_change_from_baseline     0\n",
       "parks_percent_change_from_baseline                    0\n",
       "residential_percent_change_from_baseline              0\n",
       "retail_and_recreation_percent_change_from_baseline    0\n",
       "transit_stations_percent_change_from_baseline         0\n",
       "workplaces_percent_change_from_baseline               0\n",
       "confirmed_cases                                       0\n",
       "dtype: int64"
      ]
     },
     "execution_count": 11,
     "metadata": {},
     "output_type": "execute_result"
    }
   ],
   "source": [
    "covid.isna().sum()"
   ]
  },
  {
   "cell_type": "code",
   "execution_count": null,
   "id": "925ded08",
   "metadata": {},
   "outputs": [],
   "source": [
    "covid.shape"
   ]
  },
  {
   "cell_type": "code",
   "execution_count": null,
   "id": "7f9c4c11",
   "metadata": {},
   "outputs": [],
   "source": [
    "covid.info()"
   ]
  },
  {
   "cell_type": "code",
   "execution_count": null,
   "id": "ab422331",
   "metadata": {},
   "outputs": [],
   "source": [
    "moved_column = covid.pop(\"confirmed_cases\")"
   ]
  },
  {
   "cell_type": "code",
   "execution_count": null,
   "id": "d7a41c29",
   "metadata": {},
   "outputs": [],
   "source": [
    "covid.insert(12, \"confirmed_cases\", moved_column)"
   ]
  },
  {
   "cell_type": "code",
   "execution_count": null,
   "id": "d22b177f",
   "metadata": {},
   "outputs": [],
   "source": [
    "covid.head()"
   ]
  },
  {
   "cell_type": "code",
   "execution_count": 12,
   "id": "ac5d3cea",
   "metadata": {},
   "outputs": [],
   "source": [
    "covid_data = covid.values"
   ]
  },
  {
   "cell_type": "code",
   "execution_count": 13,
   "id": "da3042c6",
   "metadata": {},
   "outputs": [
    {
     "data": {
      "text/plain": [
       "array([[-2.000000e+00, -8.000000e+00,  1.000000e+00, ...,  1.000000e+00,\n",
       "         5.000000e+00,  0.000000e+00],\n",
       "       [-3.000000e+00, -7.000000e+00,  2.000000e+00, ..., -4.000000e+00,\n",
       "         2.000000e+00,  0.000000e+00],\n",
       "       [-4.000000e+00, -7.000000e+00,  1.000000e+00, ..., -1.000000e+00,\n",
       "         3.000000e+00,  0.000000e+00],\n",
       "       ...,\n",
       "       [ 1.000000e+00, -1.200000e+01,  4.000000e+00, ..., -3.000000e+01,\n",
       "        -1.200000e+01,  1.460184e+06],\n",
       "       [ 1.000000e+00, -1.700000e+01,  6.000000e+00, ..., -3.200000e+01,\n",
       "        -2.500000e+01,  1.465928e+06],\n",
       "       [ 0.000000e+00, -1.900000e+01,  6.000000e+00, ..., -3.100000e+01,\n",
       "        -2.600000e+01,  1.467693e+06]])"
      ]
     },
     "execution_count": 13,
     "metadata": {},
     "output_type": "execute_result"
    }
   ],
   "source": [
    "covid_data"
   ]
  },
  {
   "cell_type": "code",
   "execution_count": 14,
   "id": "aa093f7e",
   "metadata": {},
   "outputs": [],
   "source": [
    "X = covid_data[:, 0:6]"
   ]
  },
  {
   "cell_type": "code",
   "execution_count": 15,
   "id": "cb190432",
   "metadata": {},
   "outputs": [
    {
     "data": {
      "text/plain": [
       "(403, 6)"
      ]
     },
     "execution_count": 15,
     "metadata": {},
     "output_type": "execute_result"
    }
   ],
   "source": [
    "X.shape"
   ]
  },
  {
   "cell_type": "code",
   "execution_count": 16,
   "id": "1d95d392",
   "metadata": {},
   "outputs": [
    {
     "data": {
      "text/plain": [
       "array([[ -2.,  -8.,   1.,  -2.,   1.,   5.],\n",
       "       [ -3.,  -7.,   2.,  -3.,  -4.,   2.],\n",
       "       [ -4.,  -7.,   1.,  -3.,  -1.,   3.],\n",
       "       ...,\n",
       "       [  1., -12.,   4., -17., -30., -12.],\n",
       "       [  1., -17.,   6., -17., -32., -25.],\n",
       "       [  0., -19.,   6., -18., -31., -26.]])"
      ]
     },
     "execution_count": 16,
     "metadata": {},
     "output_type": "execute_result"
    }
   ],
   "source": [
    "X"
   ]
  },
  {
   "cell_type": "code",
   "execution_count": 17,
   "id": "31b5f3e9",
   "metadata": {},
   "outputs": [],
   "source": [
    "Y = covid_data[:, 6]"
   ]
  },
  {
   "cell_type": "code",
   "execution_count": 18,
   "id": "0246a2a1",
   "metadata": {},
   "outputs": [
    {
     "data": {
      "text/plain": [
       "array([      0.,       0.,       0.,       0.,       0.,       0.,\n",
       "             0.,       0.,       0.,       0.,       0.,       0.,\n",
       "             0.,       0.,       0.,       0.,    1855.,    1920.,\n",
       "          1986.,    1989.,    1992.,    1995.,    1998.,    2001.,\n",
       "          2004.,    2007.,    2010.,    2013.,    2016.,    2019.,\n",
       "          2022.,    2025.,    2028.,    2031.,    2034.,    2037.,\n",
       "          2040.,    2044.,    2048.,    2052.,    2056.,    2060.,\n",
       "          2064.,    2068.,    2072.,    2076.,    2080.,    2084.,\n",
       "          2088.,    2092.,    2273.,    2491.,    2738.,    2956.,\n",
       "          3293.,    3512.,    3842.,    4241.,    4557.,    4839.,\n",
       "          5136.,    5516.,    5923.,    6248.,    6575.,    6760.,\n",
       "          7135.,    7418.,    7775.,    8211.,    8607.,    8882.,\n",
       "          9096.,    9511.,    9771.,   10118.,   10551.,   10843.,\n",
       "         11192.,   11631.,   12071.,   12438.,   12776.,   13112.,\n",
       "         13645.,   14032.,   14265.,   14749.,   15438.,   16006.,\n",
       "         16496.,   17025.,   17514.,   18010.,   18496.,   19189.,\n",
       "         20162.,   20796.,   21745.,   22271.,   22750.,   23165.,\n",
       "         23851.,   24538.,   25216.,   25773.,   26473.,   26940.,\n",
       "         27549.,   28183.,   28818.,   29521.,   30514.,   31186.,\n",
       "         32033.,   33075.,   34316.,   35295.,   36406.,   37420.,\n",
       "         38277.,   39294.,   40400.,   41431.,   42762.,   43803.,\n",
       "         45029.,   45891.,   46845.,   47896.,   49009.,   50187.,\n",
       "         51427.,   52812.,   54010.,   55092.,   56385.,   57770.,\n",
       "         59394.,   60695.,   62142.,   63749.,   64958.,   66226.,\n",
       "         68079.,   70736.,   72347.,   74018.,   75699.,   76981.,\n",
       "         78572.,   80094.,   81668.,   83130.,   84882.,   86521.,\n",
       "         88214.,   89869.,   91751.,   93657.,   95418.,   97286.,\n",
       "         98778.,  100303.,  102051.,  104432.,  106336.,  108376.,\n",
       "        109936.,  111455.,  113134.,  115056.,  116871.,  118753.,\n",
       "        121226.,  123503.,  125396.,  127083.,  128776.,  130718.,\n",
       "        132816.,  135123.,  137468.,  139549.,  141370.,  143043.,\n",
       "        144945.,  147211.,  149408.,  151498.,  153535.,  155412.,\n",
       "        157859.,  160165.,  162884.,  165887.,  169195.,  172053.,\n",
       "        174796.,  177571.,  180646.,  184091.,  187537.,  190665.,\n",
       "        194109.,  196989.,  200035.,  203342.,  207203.,  210940.,\n",
       "        214746.,  218382.,  221523.,  225030.,  228993.,  232628.,\n",
       "        236519.,  240687.,  244676.,  248852.,  252923.,  257388.,\n",
       "        262022.,  266845.,  271339.,  275213.,  278722.,  282724.,\n",
       "        287008.,  291182.,  295499.,  299506.,  303498.,  307120.,\n",
       "        311176.,  315714.,  320564.,  324658.,  328952.,  333449.,\n",
       "        336716.,  340622.,  344749.,  349160.,  353461.,  357762.,\n",
       "        361867.,  365240.,  368842.,  373109.,  377541.,  381910.,\n",
       "        385980.,  389712.,  392934.,  396454.,  400483.,  404048.,\n",
       "        406945.,  410088.,  412784.,  415402.,  418375.,  421731.,\n",
       "        425796.,  429574.,  433836.,  437716.,  440569.,  444348.,\n",
       "        448118.,  452291.,  457735.,  463007.,  467113.,  470648.,\n",
       "        474455.,  478720.,  483518.,  488310.,  493308.,  497668.,\n",
       "        502110.,  506302.,  511836.,  516753.,  522581.,  527999.,\n",
       "        534266.,  538883.,  543975.,  549508.,  557877.,  563792.,\n",
       "        569707.,  575796.,  581550.,  586842.,  592900.,  598933.,\n",
       "        605243.,  611631.,  617820.,  623309.,  629429.,  636154.,\n",
       "        643508.,  650197.,  657948.,  664930.,  671778.,  678125.,\n",
       "        685639.,  692838.,  700097.,  706837.,  713365.,  719219.,\n",
       "        727122.,  735124.,  743198.,  751270.,  758473.,  765350.,\n",
       "        772103.,  779548.,  788402.,  797723.,  808340.,  818386.,\n",
       "        828086.,  836718.,  846765.,  858043.,  869600.,  882418.,\n",
       "        896642.,  907929.,  917015.,  927380.,  939948.,  951651.,\n",
       "        965283.,  977474.,  989262.,  999256., 1012350., 1024298.,\n",
       "       1037993., 1051795., 1066313., 1078314., 1089308., 1099687.,\n",
       "       1111671., 1123105., 1134854., 1147010., 1157837., 1166079.,\n",
       "       1174779., 1183555., 1191990., 1201859., 1210703., 1217468.,\n",
       "       1223930., 1233959., 1243646., 1252685., 1263299., 1271353.,\n",
       "       1278653., 1288833., 1298608., 1306141., 1314634., 1322866.,\n",
       "       1329074., 1334634., 1341314., 1347026., 1353834., 1361098.,\n",
       "       1368069., 1373836., 1379662., 1386556., 1392949., 1398578.,\n",
       "       1403722., 1410134., 1414741., 1419455., 1425044., 1430458.,\n",
       "       1437283., 1443853., 1450132., 1455788., 1460184., 1465928.,\n",
       "       1467693.])"
      ]
     },
     "execution_count": 18,
     "metadata": {},
     "output_type": "execute_result"
    }
   ],
   "source": [
    "Y"
   ]
  },
  {
   "cell_type": "code",
   "execution_count": 19,
   "id": "f98b0208",
   "metadata": {},
   "outputs": [],
   "source": [
    "from sklearn.preprocessing import MinMaxScaler\n",
    "from sklearn.preprocessing import StandardScaler\n",
    "from sklearn.model_selection import train_test_split"
   ]
  },
  {
   "cell_type": "code",
   "execution_count": 20,
   "id": "bb9ec38e",
   "metadata": {},
   "outputs": [],
   "source": [
    "mms = MinMaxScaler()\n",
    "X_scaled = mms.fit_transform(X)"
   ]
  },
  {
   "cell_type": "code",
   "execution_count": 21,
   "id": "aa60fc9d",
   "metadata": {},
   "outputs": [
    {
     "data": {
      "text/plain": [
       "array([[0.56140351, 0.55555556, 0.04      , 0.87931034, 0.95833333,\n",
       "        0.98684211],\n",
       "       [0.54385965, 0.56666667, 0.08      , 0.86206897, 0.88888889,\n",
       "        0.94736842],\n",
       "       [0.52631579, 0.56666667, 0.04      , 0.86206897, 0.93055556,\n",
       "        0.96052632],\n",
       "       ...,\n",
       "       [0.61403509, 0.51111111, 0.16      , 0.62068966, 0.52777778,\n",
       "        0.76315789],\n",
       "       [0.61403509, 0.45555556, 0.24      , 0.62068966, 0.5       ,\n",
       "        0.59210526],\n",
       "       [0.59649123, 0.43333333, 0.24      , 0.60344828, 0.51388889,\n",
       "        0.57894737]])"
      ]
     },
     "execution_count": 21,
     "metadata": {},
     "output_type": "execute_result"
    }
   ],
   "source": [
    "X_scaled"
   ]
  },
  {
   "cell_type": "code",
   "execution_count": 22,
   "id": "3212fd14",
   "metadata": {},
   "outputs": [],
   "source": [
    "X_train, X_vt, Y_train, Y_vt = train_test_split(X_scaled, Y, test_size=0.2)"
   ]
  },
  {
   "cell_type": "code",
   "execution_count": 23,
   "id": "daa769e8",
   "metadata": {},
   "outputs": [],
   "source": [
    "X_test, X_val, Y_test, Y_val = train_test_split(X_vt, Y_vt, test_size=0.5)"
   ]
  },
  {
   "cell_type": "code",
   "execution_count": 24,
   "id": "079ad716",
   "metadata": {},
   "outputs": [
    {
     "name": "stdout",
     "output_type": "stream",
     "text": [
      "(322, 6) (41, 6) (40, 6) (322,) (41,) (40,)\n"
     ]
    }
   ],
   "source": [
    "print(X_train.shape, X_val.shape, X_test.shape, Y_train.shape, Y_val.shape, Y_test.shape)"
   ]
  },
  {
   "cell_type": "code",
   "execution_count": 25,
   "id": "ea511b70",
   "metadata": {},
   "outputs": [],
   "source": [
    "from tensorflow.keras.models import Sequential\n",
    "from tensorflow.keras.layers import Dense, Dropout, Flatten, LSTM"
   ]
  },
  {
   "cell_type": "code",
   "execution_count": 34,
   "id": "a4545e43",
   "metadata": {},
   "outputs": [],
   "source": [
    "model = Sequential([\n",
    "    Dense(32, activation='relu', input_shape=(6,)),\n",
    "    Dense(64, activation='relu'),\n",
    "    Dropout(0.25),\n",
    "    Dense(128, activation='relu'),\n",
    "    Dense(64, activation='relu'),\n",
    "    Dropout(0.25),\n",
    "    Dense(32, activation='relu'),\n",
    "    Dense(1, activation='sigmoid')\n",
    "])"
   ]
  },
  {
   "cell_type": "code",
   "execution_count": 48,
   "id": "eefc18f5",
   "metadata": {},
   "outputs": [],
   "source": [
    "model = Sequential([\n",
    "    Dense(256, activation='relu', input_shape=(6,)),\n",
    "    Dense(256, activation='relu'),\n",
    "    Dense(1, activation='sigmoid')\n",
    "])"
   ]
  },
  {
   "cell_type": "code",
   "execution_count": null,
   "id": "d6a76b1c",
   "metadata": {},
   "outputs": [],
   "source": [
    "model = Sequential([LSTM(50, input_shape=(12,15), return_sequences = False),\n",
    "                   Dropout(0.8),\n",
    "                   Dense(1, activation = 'sigmoid')])"
   ]
  },
  {
   "cell_type": "code",
   "execution_count": 49,
   "id": "30025b62",
   "metadata": {},
   "outputs": [],
   "source": [
    "model.compile(optimizer='sgd',\n",
    "              loss='binary_crossentropy',\n",
    "              metrics=['accuracy'])"
   ]
  },
  {
   "cell_type": "code",
   "execution_count": 50,
   "id": "8085f744",
   "metadata": {},
   "outputs": [
    {
     "name": "stdout",
     "output_type": "stream",
     "text": [
      "Epoch 1/10\n",
      "3/3 - 0s - loss: -5.7177e+35 - accuracy: 0.0155 - val_loss: nan - val_accuracy: 0.0000e+00 - 336ms/epoch - 112ms/step\n",
      "Epoch 2/10\n",
      "3/3 - 0s - loss: nan - accuracy: 0.0217 - val_loss: nan - val_accuracy: 0.0244 - 24ms/epoch - 8ms/step\n",
      "Epoch 3/10\n",
      "3/3 - 0s - loss: nan - accuracy: 0.0373 - val_loss: nan - val_accuracy: 0.0244 - 25ms/epoch - 8ms/step\n",
      "Epoch 4/10\n",
      "3/3 - 0s - loss: nan - accuracy: 0.0373 - val_loss: nan - val_accuracy: 0.0244 - 24ms/epoch - 8ms/step\n",
      "Epoch 5/10\n",
      "3/3 - 0s - loss: nan - accuracy: 0.0373 - val_loss: nan - val_accuracy: 0.0244 - 25ms/epoch - 8ms/step\n",
      "Epoch 6/10\n",
      "3/3 - 0s - loss: nan - accuracy: 0.0373 - val_loss: nan - val_accuracy: 0.0244 - 24ms/epoch - 8ms/step\n",
      "Epoch 7/10\n",
      "3/3 - 0s - loss: nan - accuracy: 0.0373 - val_loss: nan - val_accuracy: 0.0244 - 25ms/epoch - 8ms/step\n",
      "Epoch 8/10\n",
      "3/3 - 0s - loss: nan - accuracy: 0.0373 - val_loss: nan - val_accuracy: 0.0244 - 25ms/epoch - 8ms/step\n",
      "Epoch 9/10\n",
      "3/3 - 0s - loss: nan - accuracy: 0.0373 - val_loss: nan - val_accuracy: 0.0244 - 25ms/epoch - 8ms/step\n",
      "Epoch 10/10\n",
      "3/3 - 0s - loss: nan - accuracy: 0.0373 - val_loss: nan - val_accuracy: 0.0244 - 25ms/epoch - 8ms/step\n"
     ]
    }
   ],
   "source": [
    "hist = model.fit(X_train, Y_train,\n",
    "          batch_size=128, epochs=10, \n",
    "          validation_data=(X_val, Y_val),  verbose = 2)"
   ]
  },
  {
   "cell_type": "code",
   "execution_count": 41,
   "id": "153e9db2",
   "metadata": {
    "scrolled": true
   },
   "outputs": [
    {
     "name": "stdout",
     "output_type": "stream",
     "text": [
      "2/2 [==============================] - 0s 2ms/step - loss: nan - accuracy: 0.0750\n"
     ]
    },
    {
     "data": {
      "text/plain": [
       "0.07500000298023224"
      ]
     },
     "execution_count": 41,
     "metadata": {},
     "output_type": "execute_result"
    }
   ],
   "source": [
    "model.evaluate(X_test, Y_test)[1]"
   ]
  },
  {
   "cell_type": "code",
   "execution_count": 42,
   "id": "087183af",
   "metadata": {
    "scrolled": false
   },
   "outputs": [
    {
     "name": "stdout",
     "output_type": "stream",
     "text": [
      "2/2 [==============================] - 0s 2ms/step\n"
     ]
    },
    {
     "data": {
      "text/plain": [
       "array([[nan],\n",
       "       [nan],\n",
       "       [nan],\n",
       "       [nan],\n",
       "       [nan],\n",
       "       [nan],\n",
       "       [nan],\n",
       "       [nan],\n",
       "       [nan],\n",
       "       [nan],\n",
       "       [nan],\n",
       "       [nan],\n",
       "       [nan],\n",
       "       [nan],\n",
       "       [nan],\n",
       "       [nan],\n",
       "       [nan],\n",
       "       [nan],\n",
       "       [nan],\n",
       "       [nan],\n",
       "       [nan],\n",
       "       [nan],\n",
       "       [nan],\n",
       "       [nan],\n",
       "       [nan],\n",
       "       [nan],\n",
       "       [nan],\n",
       "       [nan],\n",
       "       [nan],\n",
       "       [nan],\n",
       "       [nan],\n",
       "       [nan],\n",
       "       [nan],\n",
       "       [nan],\n",
       "       [nan],\n",
       "       [nan],\n",
       "       [nan],\n",
       "       [nan],\n",
       "       [nan],\n",
       "       [nan]], dtype=float32)"
      ]
     },
     "execution_count": 42,
     "metadata": {},
     "output_type": "execute_result"
    }
   ],
   "source": [
    "model.predict(X_test)"
   ]
  },
  {
   "cell_type": "code",
   "execution_count": 43,
   "id": "2ce23615",
   "metadata": {},
   "outputs": [
    {
     "name": "stdout",
     "output_type": "stream",
     "text": [
      "11/11 [==============================] - 0s 753us/step\n",
      "2/2 [==============================] - 0s 1ms/step\n"
     ]
    }
   ],
   "source": [
    "train = model.predict(X_train)\n",
    "test = model.predict(X_test)"
   ]
  },
  {
   "cell_type": "code",
   "execution_count": 44,
   "id": "e580c067",
   "metadata": {},
   "outputs": [
    {
     "data": {
      "image/png": "[encoded data removed]",
      "text/plain": [
       "<Figure size 640x480 with 1 Axes>"
      ]
     },
     "metadata": {},
     "output_type": "display_data"
    }
   ],
   "source": [
    "plt.plot(Y_test, color='r', label=\"RealData\")\n",
    "plt.plot(test, color='b', label='Predicted Test')\n",
    "plt.show()"
   ]
  },
  {
   "cell_type": "code",
   "execution_count": 45,
   "id": "30482d81",
   "metadata": {},
   "outputs": [
    {
     "data": {
      "image/png": "[encoded data removed]",
      "text/plain": [
       "<Figure size 640x480 with 1 Axes>"
      ]
     },
     "metadata": {},
     "output_type": "display_data"
    }
   ],
   "source": [
    "plt.plot(hist.history['loss'])\n",
    "plt.plot(hist.history['val_loss'])\n",
    "plt.title('Model loss')\n",
    "plt.ylabel('Loss')\n",
    "plt.xlabel('Epoch')\n",
    "plt.legend(['Train', 'Val'], loc='upper right')\n",
    "plt.show()"
   ]
  },
  {
   "cell_type": "code",
   "execution_count": 46,
   "id": "ea65fca0",
   "metadata": {},
   "outputs": [
    {
     "data": {
      "image/png": "[encoded data removed]",
      "text/plain": [
       "<Figure size 640x480 with 1 Axes>"
      ]
     },
     "metadata": {},
     "output_type": "display_data"
    }
   ],
   "source": [
    "plt.plot(hist.history['accuracy'])\n",
    "plt.plot(hist.history['val_accuracy'])\n",
    "plt.title('Model accuracy')\n",
    "plt.ylabel('Accuracy')\n",
    "plt.xlabel('Epoch')\n",
    "plt.legend(['Train', 'Val'], loc='lower right')\n",
    "plt.show()"
   ]
  },
  {
   "cell_type": "code",
   "execution_count": 47,
   "id": "a9cea6c7",
   "metadata": {},
   "outputs": [
    {
     "name": "stdout",
     "output_type": "stream",
     "text": [
      "Epoch 1/10\n",
      "11/11 [==============================] - 0s 17ms/step - loss: -7585579.0000 - accuracy: 0.0031 - val_loss: -45004716.0000 - val_accuracy: 0.0000e+00\n",
      "Epoch 2/10\n",
      "11/11 [==============================] - 0s 10ms/step - loss: -279510848.0000 - accuracy: 0.0000e+00 - val_loss: -808868800.0000 - val_accuracy: 0.0000e+00\n",
      "Epoch 3/10\n",
      "11/11 [==============================] - 0s 8ms/step - loss: -3163826432.0000 - accuracy: 0.0000e+00 - val_loss: -6577227264.0000 - val_accuracy: 0.0000e+00\n",
      "Epoch 4/10\n",
      "11/11 [==============================] - 0s 8ms/step - loss: -19018602496.0000 - accuracy: 0.0000e+00 - val_loss: -33830424576.0000 - val_accuracy: 0.0000e+00\n",
      "Epoch 5/10\n",
      "11/11 [==============================] - 0s 9ms/step - loss: -87858790400.0000 - accuracy: 0.0000e+00 - val_loss: -136036622336.0000 - val_accuracy: 0.0000e+00\n",
      "Epoch 6/10\n",
      "11/11 [==============================] - 0s 9ms/step - loss: -318232985600.0000 - accuracy: 0.0000e+00 - val_loss: -435131056128.0000 - val_accuracy: 0.0000e+00\n",
      "Epoch 7/10\n",
      "11/11 [==============================] - 0s 9ms/step - loss: -946042699776.0000 - accuracy: 0.0000e+00 - val_loss: -1197028802560.0000 - val_accuracy: 0.0000e+00\n",
      "Epoch 8/10\n",
      "11/11 [==============================] - 0s 8ms/step - loss: -2425157058560.0000 - accuracy: 0.0000e+00 - val_loss: -2941890068480.0000 - val_accuracy: 0.0000e+00\n",
      "Epoch 9/10\n",
      "11/11 [==============================] - 0s 9ms/step - loss: -5840978313216.0000 - accuracy: 0.0000e+00 - val_loss: -6511908093952.0000 - val_accuracy: 0.0000e+00\n",
      "Epoch 10/10\n",
      "11/11 [==============================] - 0s 9ms/step - loss: -12225522696192.0000 - accuracy: 0.0000e+00 - val_loss: -13294755643392.0000 - val_accuracy: 0.0000e+00\n"
     ]
    }
   ],
   "source": [
    "model_2 = Sequential([\n",
    "    Dense(1000, activation='relu', input_shape=(6,)),\n",
    "    Dense(1000, activation='relu'),\n",
    "    Dense(1000, activation='relu'),\n",
    "    Dense(1000, activation='relu'),\n",
    "    Dense(1, activation='sigmoid'),\n",
    "])\n",
    "\n",
    "model_2.compile(optimizer='adam',\n",
    "              loss='binary_crossentropy',\n",
    "              metrics=['accuracy'])\n",
    "              \n",
    "hist_2 = model_2.fit(X_train, Y_train,\n",
    "          batch_size=32, epochs=10,\n",
    "          validation_data=(X_val, Y_val))"
   ]
  },
  {
   "cell_type": "code",
   "execution_count": null,
   "id": "57104420",
   "metadata": {},
   "outputs": [],
   "source": [
    "plt.plot(hist_2.history['loss'])\n",
    "plt.plot(hist_2.history['val_loss'])\n",
    "plt.title('Model loss')\n",
    "plt.ylabel('Loss')\n",
    "plt.xlabel('Epoch')\n",
    "plt.legend(['Train', 'Val'], loc='upper right')\n",
    "plt.show()"
   ]
  },
  {
   "cell_type": "code",
   "execution_count": null,
   "id": "0f196b02",
   "metadata": {},
   "outputs": [],
   "source": [
    "plt.plot(hist_2.history['accuracy'])\n",
    "plt.plot(hist_2.history['val_accuracy'])\n",
    "plt.title('Model accuracy')\n",
    "plt.ylabel('Accuracy')\n",
    "plt.xlabel('Epoch')\n",
    "plt.legend(['Train', 'Val'], loc='lower right')\n",
    "plt.show()"
   ]
  },
  {
   "cell_type": "markdown",
   "id": "e65388f7",
   "metadata": {},
   "source": [
    "### Kesimpulan\n",
    "\n",
    "\n",
    "\n",
    "Berikan simpulan yang dilakukan dari hasil kerja menggunakan algoritma dan 2 dataset yang\n",
    "dipilih. Simpulan bisa berkisar antara (bisa di modifikasi):\n",
    "\n",
    "    - Simpulan perbandingan dataset\n",
    "    - Hasil akurasi yang diberikan (jika ada dalam modul)\n",
    "    - Hasil perbandingan akurasi antara algoritma (jika ada dalam modul)\n",
    "    - Hasil pemikiran dan observasi akhir dari kerja menurut mahasiswa."
   ]
  },
  {
   "cell_type": "code",
   "execution_count": null,
   "id": "60b9b4ca",
   "metadata": {},
   "outputs": [],
   "source": [
    "# Footer\n",
    "myDate = datetime.datetime.now()\n",
    "print(\"I certify that this is my own work.\")\n",
    "print(\"Signed by:\")\n",
    "print(\"Name: \\t{}\".format(myName))\n",
    "print(\"NIM: \\t{}\".format(myNIM))\n",
    "print(\"Time-stamp:\\t{}\".format(myDate))"
   ]
  },
  {
   "cell_type": "markdown",
   "id": "115e24b4",
   "metadata": {},
   "source": [
    "***\n",
    "\n",
    "### Save the notebook, then convert the notebook to html (by running the next code)."
   ]
  },
  {
   "cell_type": "code",
   "execution_count": null,
   "id": "1e86341c",
   "metadata": {},
   "outputs": [],
   "source": [
    "!jupyter nbconvert --to html \"./IF540L_kelas_A_laporan_MXX_45444_Antonius Kevin.ipynb\" --output-dir=\"./\""
   ]
  },
  {
   "cell_type": "markdown",
   "id": "e16a0495",
   "metadata": {},
   "source": [
    "### Next step:\n",
    "* convert the generated html file to PDF using the online tool: https://www.sejda.com/html-to-pdf\n",
    "* choose the following settings:\n",
    "    * Page size: One long page\n",
    "    * Page Orientation: auto\n",
    "    * Use print stylesheet\n",
    "* Submit your ipython notebook and PDF files\n",
    "\n",
    "Markdown basics https://markdown-guide.readthedocs.io/en/latest/basics.html#"
   ]
  },
  {
   "cell_type": "code",
   "execution_count": null,
   "id": "0b6add1a",
   "metadata": {},
   "outputs": [],
   "source": []
  }
 ],
 "metadata": {
  "kernelspec": {
   "display_name": "Python 3.10.6 ('tf')",
   "language": "python",
   "name": "python3"
  },
  "language_info": {
   "codemirror_mode": {
    "name": "ipython",
    "version": 3
   },
   "file_extension": ".py",
   "mimetype": "text/x-python",
   "name": "python",
   "nbconvert_exporter": "python",
   "pygments_lexer": "ipython3",
   "version": "3.10.6"
  },
  "vscode": {
   "interpreter": {
    "hash": "dc1b947dce198ff7f2d2cb152b2cbb61132fce4429fa808fd5b89ac4d7df39fa"
   }
  }
 },
 "nbformat": 4,
 "nbformat_minor": 5
}
