{
 "cells": [
  {
   "cell_type": "markdown",
   "id": "aea691db",
   "metadata": {},
   "source": [
    "## <div align=\"center\"> TUGAS LAB IF540 MACHINE LEARNING </div>\n",
    "### <div align=\"center\"> WEEK [--] : [TOPIC] </div>\n",
    "\n",
    "#### <div align=\"center\"> Semester Ganjil 2022/2023 </div>"
   ]
  },
  {
   "cell_type": "code",
   "execution_count": 1,
   "id": "ad81e0ee",
   "metadata": {},
   "outputs": [
    {
     "name": "stdout",
     "output_type": "stream",
     "text": [
      "Name: \t\tAntonius Kevin Budi Saputra\n",
      "NIM: \t\t45444\n",
      "Start: \t\t2022-11-24 12:02:23.085271\n",
      "Device ID: \t2e726148-6bb5-11ed-a955-068db3350b0c\n"
     ]
    }
   ],
   "source": [
    "import datetime\n",
    "import uuid    \n",
    "\n",
    "# Fill in your name and NIM\n",
    "myName = \"Antonius Kevin Budi Saputra\"\n",
    "myNIM = \"45444\"\n",
    "\n",
    "myDate = datetime.datetime.now()\n",
    "myDevice = str(uuid.uuid1())\n",
    "\n",
    "# Header\n",
    "print(\"Name: \\t\\t{}\".format(myName))\n",
    "print(\"NIM: \\t\\t{}\".format(myNIM))\n",
    "print(\"Start: \\t\\t{}\".format(myDate))\n",
    "print(\"Device ID: \\t{}\".format(myDevice))"
   ]
  },
  {
   "cell_type": "markdown",
   "id": "ce3f5e6e",
   "metadata": {},
   "source": [
    "\n",
    "---\n",
    "\n",
    "### Dataset yang dipakai:\n",
    "\n",
    "1. [Nama dataset1] – sumber : [cantumkan link dataset]\n",
    "2. [Nama dataset2] – sumber : [cantumkan link dataset]\n",
    "\n",
    "### Hasil kerja"
   ]
  },
  {
   "cell_type": "code",
   "execution_count": 109,
   "id": "d8c4470e",
   "metadata": {},
   "outputs": [],
   "source": [
    "import sys\n",
    "import tensorflow.keras as tk\n",
    "import pandas as pd\n",
    "import sklearn as sk\n",
    "import tensorflow as tf\n",
    "import numpy as np\n",
    "import matplotlib.pyplot as plt"
   ]
  },
  {
   "cell_type": "code",
   "execution_count": 71,
   "id": "c2141013",
   "metadata": {},
   "outputs": [],
   "source": [
    "covid = pd.read_csv(\"COVID-19.csv\")"
   ]
  },
  {
   "cell_type": "code",
   "execution_count": 72,
   "id": "c33a379e",
   "metadata": {},
   "outputs": [
    {
     "data": {
      "text/html": [
       "<div>\n",
       "<style scoped>\n",
       "    .dataframe tbody tr th:only-of-type {\n",
       "        vertical-align: middle;\n",
       "    }\n",
       "\n",
       "    .dataframe tbody tr th {\n",
       "        vertical-align: top;\n",
       "    }\n",
       "\n",
       "    .dataframe thead th {\n",
       "        text-align: right;\n",
       "    }\n",
       "</style>\n",
       "<table border=\"1\" class=\"dataframe\">\n",
       "  <thead>\n",
       "    <tr style=\"text-align: right;\">\n",
       "      <th></th>\n",
       "      <th>iso</th>\n",
       "      <th>country</th>\n",
       "      <th>date</th>\n",
       "      <th>grocery_and_pharmacy_percent_change_from_baseline</th>\n",
       "      <th>parks_percent_change_from_baseline</th>\n",
       "      <th>residential_percent_change_from_baseline</th>\n",
       "      <th>retail_and_recreation_percent_change_from_baseline</th>\n",
       "      <th>transit_stations_percent_change_from_baseline</th>\n",
       "      <th>workplaces_percent_change_from_baseline</th>\n",
       "      <th>confirmed_cases</th>\n",
       "      <th>...</th>\n",
       "      <th>total_tests</th>\n",
       "      <th>total_vaccinations</th>\n",
       "      <th>people_vaccinated</th>\n",
       "      <th>people_fully_vaccinated</th>\n",
       "      <th>gdp_ppp_per_capita</th>\n",
       "      <th>population</th>\n",
       "      <th>population_density</th>\n",
       "      <th>human_development_index</th>\n",
       "      <th>pop_age_above_65_percentage</th>\n",
       "      <th>health_index</th>\n",
       "    </tr>\n",
       "  </thead>\n",
       "  <tbody>\n",
       "    <tr>\n",
       "      <th>0</th>\n",
       "      <td>AE</td>\n",
       "      <td>United Arab Emirates</td>\n",
       "      <td>2020-02-15</td>\n",
       "      <td>4.0</td>\n",
       "      <td>5.0</td>\n",
       "      <td>1.0</td>\n",
       "      <td>0.0</td>\n",
       "      <td>0.0</td>\n",
       "      <td>2.0</td>\n",
       "      <td>8</td>\n",
       "      <td>...</td>\n",
       "      <td>NaN</td>\n",
       "      <td>NaN</td>\n",
       "      <td>NaN</td>\n",
       "      <td>NaN</td>\n",
       "      <td>75075.26</td>\n",
       "      <td>9865845.0</td>\n",
       "      <td>118.0</td>\n",
       "      <td>0.866</td>\n",
       "      <td>1.09</td>\n",
       "      <td>0.886</td>\n",
       "    </tr>\n",
       "    <tr>\n",
       "      <th>1</th>\n",
       "      <td>AE</td>\n",
       "      <td>United Arab Emirates</td>\n",
       "      <td>2020-02-16</td>\n",
       "      <td>4.0</td>\n",
       "      <td>4.0</td>\n",
       "      <td>1.0</td>\n",
       "      <td>1.0</td>\n",
       "      <td>1.0</td>\n",
       "      <td>2.0</td>\n",
       "      <td>9</td>\n",
       "      <td>...</td>\n",
       "      <td>5042.0</td>\n",
       "      <td>NaN</td>\n",
       "      <td>NaN</td>\n",
       "      <td>NaN</td>\n",
       "      <td>75075.26</td>\n",
       "      <td>9865845.0</td>\n",
       "      <td>118.0</td>\n",
       "      <td>0.866</td>\n",
       "      <td>1.09</td>\n",
       "      <td>0.886</td>\n",
       "    </tr>\n",
       "    <tr>\n",
       "      <th>2</th>\n",
       "      <td>AE</td>\n",
       "      <td>United Arab Emirates</td>\n",
       "      <td>2020-02-17</td>\n",
       "      <td>1.0</td>\n",
       "      <td>5.0</td>\n",
       "      <td>1.0</td>\n",
       "      <td>-1.0</td>\n",
       "      <td>1.0</td>\n",
       "      <td>2.0</td>\n",
       "      <td>9</td>\n",
       "      <td>...</td>\n",
       "      <td>NaN</td>\n",
       "      <td>NaN</td>\n",
       "      <td>NaN</td>\n",
       "      <td>NaN</td>\n",
       "      <td>75075.26</td>\n",
       "      <td>9865845.0</td>\n",
       "      <td>118.0</td>\n",
       "      <td>0.866</td>\n",
       "      <td>1.09</td>\n",
       "      <td>0.886</td>\n",
       "    </tr>\n",
       "    <tr>\n",
       "      <th>3</th>\n",
       "      <td>AE</td>\n",
       "      <td>United Arab Emirates</td>\n",
       "      <td>2020-02-18</td>\n",
       "      <td>1.0</td>\n",
       "      <td>5.0</td>\n",
       "      <td>1.0</td>\n",
       "      <td>-2.0</td>\n",
       "      <td>0.0</td>\n",
       "      <td>2.0</td>\n",
       "      <td>9</td>\n",
       "      <td>...</td>\n",
       "      <td>6693.0</td>\n",
       "      <td>NaN</td>\n",
       "      <td>NaN</td>\n",
       "      <td>NaN</td>\n",
       "      <td>75075.26</td>\n",
       "      <td>9865845.0</td>\n",
       "      <td>118.0</td>\n",
       "      <td>0.866</td>\n",
       "      <td>1.09</td>\n",
       "      <td>0.886</td>\n",
       "    </tr>\n",
       "    <tr>\n",
       "      <th>4</th>\n",
       "      <td>AE</td>\n",
       "      <td>United Arab Emirates</td>\n",
       "      <td>2020-02-19</td>\n",
       "      <td>0.0</td>\n",
       "      <td>4.0</td>\n",
       "      <td>1.0</td>\n",
       "      <td>-2.0</td>\n",
       "      <td>-1.0</td>\n",
       "      <td>2.0</td>\n",
       "      <td>9</td>\n",
       "      <td>...</td>\n",
       "      <td>NaN</td>\n",
       "      <td>NaN</td>\n",
       "      <td>NaN</td>\n",
       "      <td>NaN</td>\n",
       "      <td>75075.26</td>\n",
       "      <td>9865845.0</td>\n",
       "      <td>118.0</td>\n",
       "      <td>0.866</td>\n",
       "      <td>1.09</td>\n",
       "      <td>0.886</td>\n",
       "    </tr>\n",
       "  </tbody>\n",
       "</table>\n",
       "<p>5 rows × 22 columns</p>\n",
       "</div>"
      ],
      "text/plain": [
       "  iso               country        date  \\\n",
       "0  AE  United Arab Emirates  2020-02-15   \n",
       "1  AE  United Arab Emirates  2020-02-16   \n",
       "2  AE  United Arab Emirates  2020-02-17   \n",
       "3  AE  United Arab Emirates  2020-02-18   \n",
       "4  AE  United Arab Emirates  2020-02-19   \n",
       "\n",
       "   grocery_and_pharmacy_percent_change_from_baseline  \\\n",
       "0                                                4.0   \n",
       "1                                                4.0   \n",
       "2                                                1.0   \n",
       "3                                                1.0   \n",
       "4                                                0.0   \n",
       "\n",
       "   parks_percent_change_from_baseline  \\\n",
       "0                                 5.0   \n",
       "1                                 4.0   \n",
       "2                                 5.0   \n",
       "3                                 5.0   \n",
       "4                                 4.0   \n",
       "\n",
       "   residential_percent_change_from_baseline  \\\n",
       "0                                       1.0   \n",
       "1                                       1.0   \n",
       "2                                       1.0   \n",
       "3                                       1.0   \n",
       "4                                       1.0   \n",
       "\n",
       "   retail_and_recreation_percent_change_from_baseline  \\\n",
       "0                                                0.0    \n",
       "1                                                1.0    \n",
       "2                                               -1.0    \n",
       "3                                               -2.0    \n",
       "4                                               -2.0    \n",
       "\n",
       "   transit_stations_percent_change_from_baseline  \\\n",
       "0                                            0.0   \n",
       "1                                            1.0   \n",
       "2                                            1.0   \n",
       "3                                            0.0   \n",
       "4                                           -1.0   \n",
       "\n",
       "   workplaces_percent_change_from_baseline  confirmed_cases  ...  total_tests  \\\n",
       "0                                      2.0                8  ...          NaN   \n",
       "1                                      2.0                9  ...       5042.0   \n",
       "2                                      2.0                9  ...          NaN   \n",
       "3                                      2.0                9  ...       6693.0   \n",
       "4                                      2.0                9  ...          NaN   \n",
       "\n",
       "   total_vaccinations  people_vaccinated  people_fully_vaccinated  \\\n",
       "0                 NaN                NaN                      NaN   \n",
       "1                 NaN                NaN                      NaN   \n",
       "2                 NaN                NaN                      NaN   \n",
       "3                 NaN                NaN                      NaN   \n",
       "4                 NaN                NaN                      NaN   \n",
       "\n",
       "   gdp_ppp_per_capita  population  population_density  \\\n",
       "0            75075.26   9865845.0               118.0   \n",
       "1            75075.26   9865845.0               118.0   \n",
       "2            75075.26   9865845.0               118.0   \n",
       "3            75075.26   9865845.0               118.0   \n",
       "4            75075.26   9865845.0               118.0   \n",
       "\n",
       "   human_development_index  pop_age_above_65_percentage  health_index  \n",
       "0                    0.866                         1.09         0.886  \n",
       "1                    0.866                         1.09         0.886  \n",
       "2                    0.866                         1.09         0.886  \n",
       "3                    0.866                         1.09         0.886  \n",
       "4                    0.866                         1.09         0.886  \n",
       "\n",
       "[5 rows x 22 columns]"
      ]
     },
     "execution_count": 72,
     "metadata": {},
     "output_type": "execute_result"
    }
   ],
   "source": [
    "covid.head()"
   ]
  },
  {
   "cell_type": "code",
   "execution_count": 73,
   "id": "078a40f0",
   "metadata": {},
   "outputs": [
    {
     "name": "stdout",
     "output_type": "stream",
     "text": [
      "<class 'pandas.core.frame.DataFrame'>\n",
      "RangeIndex: 53377 entries, 0 to 53376\n",
      "Data columns (total 22 columns):\n",
      " #   Column                                              Non-Null Count  Dtype  \n",
      "---  ------                                              --------------  -----  \n",
      " 0   iso                                                 52974 non-null  object \n",
      " 1   country                                             53377 non-null  object \n",
      " 2   date                                                53377 non-null  object \n",
      " 3   grocery_and_pharmacy_percent_change_from_baseline   52362 non-null  float64\n",
      " 4   parks_percent_change_from_baseline                  52177 non-null  float64\n",
      " 5   residential_percent_change_from_baseline            52072 non-null  float64\n",
      " 6   retail_and_recreation_percent_change_from_baseline  52405 non-null  float64\n",
      " 7   transit_stations_percent_change_from_baseline       52534 non-null  float64\n",
      " 8   workplaces_percent_change_from_baseline             53222 non-null  float64\n",
      " 9   confirmed_cases                                     53377 non-null  int64  \n",
      " 10  confirmed_deaths                                    53377 non-null  int64  \n",
      " 11  gov_response_stringency_index                       50654 non-null  float64\n",
      " 12  total_tests                                         19013 non-null  float64\n",
      " 13  total_vaccinations                                  4094 non-null   float64\n",
      " 14  people_vaccinated                                   3680 non-null   float64\n",
      " 15  people_fully_vaccinated                             2460 non-null   float64\n",
      " 16  gdp_ppp_per_capita                                  51009 non-null  float64\n",
      " 17  population                                          52974 non-null  float64\n",
      " 18  population_density                                  52974 non-null  float64\n",
      " 19  human_development_index                             51790 non-null  float64\n",
      " 20  pop_age_above_65_percentage                         51815 non-null  float64\n",
      " 21  health_index                                        50651 non-null  float64\n",
      "dtypes: float64(17), int64(2), object(3)\n",
      "memory usage: 9.0+ MB\n"
     ]
    }
   ],
   "source": [
    "covid.info()"
   ]
  },
  {
   "cell_type": "code",
   "execution_count": 74,
   "id": "199e8c7e",
   "metadata": {},
   "outputs": [
    {
     "data": {
      "text/plain": [
       "Index(['iso', 'country', 'date',\n",
       "       'grocery_and_pharmacy_percent_change_from_baseline',\n",
       "       'parks_percent_change_from_baseline',\n",
       "       'residential_percent_change_from_baseline',\n",
       "       'retail_and_recreation_percent_change_from_baseline',\n",
       "       'transit_stations_percent_change_from_baseline',\n",
       "       'workplaces_percent_change_from_baseline', 'confirmed_cases',\n",
       "       'confirmed_deaths', 'gov_response_stringency_index', 'total_tests',\n",
       "       'total_vaccinations', 'people_vaccinated', 'people_fully_vaccinated',\n",
       "       'gdp_ppp_per_capita', 'population', 'population_density',\n",
       "       'human_development_index', 'pop_age_above_65_percentage',\n",
       "       'health_index'],\n",
       "      dtype='object')"
      ]
     },
     "execution_count": 74,
     "metadata": {},
     "output_type": "execute_result"
    }
   ],
   "source": [
    "covid.columns"
   ]
  },
  {
   "cell_type": "code",
   "execution_count": 75,
   "id": "0db1116b",
   "metadata": {},
   "outputs": [],
   "source": [
    "covid.drop(columns=['iso', 'country', 'date',\n",
    "       'confirmed_deaths', 'gov_response_stringency_index', 'total_tests',\n",
    "       'total_vaccinations', 'people_vaccinated', 'people_fully_vaccinated',\n",
    "       'gdp_ppp_per_capita', 'population', 'population_density',\n",
    "       'human_development_index', 'pop_age_above_65_percentage',\n",
    "       'health_index'], inplace=True)"
   ]
  },
  {
   "cell_type": "code",
   "execution_count": 76,
   "id": "0c78ec70",
   "metadata": {
    "scrolled": true
   },
   "outputs": [
    {
     "data": {
      "text/plain": [
       "grocery_and_pharmacy_percent_change_from_baseline     1015\n",
       "parks_percent_change_from_baseline                    1200\n",
       "residential_percent_change_from_baseline              1305\n",
       "retail_and_recreation_percent_change_from_baseline     972\n",
       "transit_stations_percent_change_from_baseline          843\n",
       "workplaces_percent_change_from_baseline                155\n",
       "confirmed_cases                                          0\n",
       "dtype: int64"
      ]
     },
     "execution_count": 76,
     "metadata": {},
     "output_type": "execute_result"
    }
   ],
   "source": [
    "covid.isna().sum()"
   ]
  },
  {
   "cell_type": "code",
   "execution_count": 77,
   "id": "052b03fc",
   "metadata": {},
   "outputs": [],
   "source": [
    "covid.dropna(subset=['grocery_and_pharmacy_percent_change_from_baseline',\n",
    "       'parks_percent_change_from_baseline',\n",
    "       'residential_percent_change_from_baseline',\n",
    "       'retail_and_recreation_percent_change_from_baseline',\n",
    "       'transit_stations_percent_change_from_baseline',\n",
    "       'workplaces_percent_change_from_baseline',], inplace=True)"
   ]
  },
  {
   "cell_type": "code",
   "execution_count": 9,
   "id": "fc332bdf",
   "metadata": {},
   "outputs": [],
   "source": [
    "covid.dropna(subset=['population', 'population_density','health_index'], inplace=True)"
   ]
  },
  {
   "cell_type": "code",
   "execution_count": 78,
   "id": "ec8f5d60",
   "metadata": {
    "scrolled": true
   },
   "outputs": [
    {
     "name": "stdout",
     "output_type": "stream",
     "text": [
      "<class 'pandas.core.frame.DataFrame'>\n",
      "Int64Index: 51375 entries, 0 to 53376\n",
      "Data columns (total 7 columns):\n",
      " #   Column                                              Non-Null Count  Dtype  \n",
      "---  ------                                              --------------  -----  \n",
      " 0   grocery_and_pharmacy_percent_change_from_baseline   51375 non-null  float64\n",
      " 1   parks_percent_change_from_baseline                  51375 non-null  float64\n",
      " 2   residential_percent_change_from_baseline            51375 non-null  float64\n",
      " 3   retail_and_recreation_percent_change_from_baseline  51375 non-null  float64\n",
      " 4   transit_stations_percent_change_from_baseline       51375 non-null  float64\n",
      " 5   workplaces_percent_change_from_baseline             51375 non-null  float64\n",
      " 6   confirmed_cases                                     51375 non-null  int64  \n",
      "dtypes: float64(6), int64(1)\n",
      "memory usage: 3.1 MB\n"
     ]
    }
   ],
   "source": [
    "covid.info()"
   ]
  },
  {
   "cell_type": "code",
   "execution_count": 11,
   "id": "a1ee7fc0",
   "metadata": {},
   "outputs": [],
   "source": [
    "covid.fillna(0, inplace=True)"
   ]
  },
  {
   "cell_type": "code",
   "execution_count": 79,
   "id": "d83a5526",
   "metadata": {},
   "outputs": [
    {
     "data": {
      "text/plain": [
       "grocery_and_pharmacy_percent_change_from_baseline     0\n",
       "parks_percent_change_from_baseline                    0\n",
       "residential_percent_change_from_baseline              0\n",
       "retail_and_recreation_percent_change_from_baseline    0\n",
       "transit_stations_percent_change_from_baseline         0\n",
       "workplaces_percent_change_from_baseline               0\n",
       "confirmed_cases                                       0\n",
       "dtype: int64"
      ]
     },
     "execution_count": 79,
     "metadata": {},
     "output_type": "execute_result"
    }
   ],
   "source": [
    "covid.isna().sum()"
   ]
  },
  {
   "cell_type": "code",
   "execution_count": 80,
   "id": "925ded08",
   "metadata": {},
   "outputs": [
    {
     "data": {
      "text/plain": [
       "(51375, 7)"
      ]
     },
     "execution_count": 80,
     "metadata": {},
     "output_type": "execute_result"
    }
   ],
   "source": [
    "covid.shape"
   ]
  },
  {
   "cell_type": "code",
   "execution_count": 81,
   "id": "7f9c4c11",
   "metadata": {},
   "outputs": [
    {
     "name": "stdout",
     "output_type": "stream",
     "text": [
      "<class 'pandas.core.frame.DataFrame'>\n",
      "Int64Index: 51375 entries, 0 to 53376\n",
      "Data columns (total 7 columns):\n",
      " #   Column                                              Non-Null Count  Dtype  \n",
      "---  ------                                              --------------  -----  \n",
      " 0   grocery_and_pharmacy_percent_change_from_baseline   51375 non-null  float64\n",
      " 1   parks_percent_change_from_baseline                  51375 non-null  float64\n",
      " 2   residential_percent_change_from_baseline            51375 non-null  float64\n",
      " 3   retail_and_recreation_percent_change_from_baseline  51375 non-null  float64\n",
      " 4   transit_stations_percent_change_from_baseline       51375 non-null  float64\n",
      " 5   workplaces_percent_change_from_baseline             51375 non-null  float64\n",
      " 6   confirmed_cases                                     51375 non-null  int64  \n",
      "dtypes: float64(6), int64(1)\n",
      "memory usage: 3.1 MB\n"
     ]
    }
   ],
   "source": [
    "covid.info()"
   ]
  },
  {
   "cell_type": "code",
   "execution_count": 15,
   "id": "ab422331",
   "metadata": {},
   "outputs": [],
   "source": [
    "moved_column = covid.pop(\"confirmed_cases\")"
   ]
  },
  {
   "cell_type": "code",
   "execution_count": 16,
   "id": "d7a41c29",
   "metadata": {},
   "outputs": [],
   "source": [
    "covid.insert(12, \"confirmed_cases\", moved_column)"
   ]
  },
  {
   "cell_type": "code",
   "execution_count": 82,
   "id": "d22b177f",
   "metadata": {},
   "outputs": [
    {
     "data": {
      "text/html": [
       "<div>\n",
       "<style scoped>\n",
       "    .dataframe tbody tr th:only-of-type {\n",
       "        vertical-align: middle;\n",
       "    }\n",
       "\n",
       "    .dataframe tbody tr th {\n",
       "        vertical-align: top;\n",
       "    }\n",
       "\n",
       "    .dataframe thead th {\n",
       "        text-align: right;\n",
       "    }\n",
       "</style>\n",
       "<table border=\"1\" class=\"dataframe\">\n",
       "  <thead>\n",
       "    <tr style=\"text-align: right;\">\n",
       "      <th></th>\n",
       "      <th>grocery_and_pharmacy_percent_change_from_baseline</th>\n",
       "      <th>parks_percent_change_from_baseline</th>\n",
       "      <th>residential_percent_change_from_baseline</th>\n",
       "      <th>retail_and_recreation_percent_change_from_baseline</th>\n",
       "      <th>transit_stations_percent_change_from_baseline</th>\n",
       "      <th>workplaces_percent_change_from_baseline</th>\n",
       "      <th>confirmed_cases</th>\n",
       "    </tr>\n",
       "  </thead>\n",
       "  <tbody>\n",
       "    <tr>\n",
       "      <th>0</th>\n",
       "      <td>4.0</td>\n",
       "      <td>5.0</td>\n",
       "      <td>1.0</td>\n",
       "      <td>0.0</td>\n",
       "      <td>0.0</td>\n",
       "      <td>2.0</td>\n",
       "      <td>8</td>\n",
       "    </tr>\n",
       "    <tr>\n",
       "      <th>1</th>\n",
       "      <td>4.0</td>\n",
       "      <td>4.0</td>\n",
       "      <td>1.0</td>\n",
       "      <td>1.0</td>\n",
       "      <td>1.0</td>\n",
       "      <td>2.0</td>\n",
       "      <td>9</td>\n",
       "    </tr>\n",
       "    <tr>\n",
       "      <th>2</th>\n",
       "      <td>1.0</td>\n",
       "      <td>5.0</td>\n",
       "      <td>1.0</td>\n",
       "      <td>-1.0</td>\n",
       "      <td>1.0</td>\n",
       "      <td>2.0</td>\n",
       "      <td>9</td>\n",
       "    </tr>\n",
       "    <tr>\n",
       "      <th>3</th>\n",
       "      <td>1.0</td>\n",
       "      <td>5.0</td>\n",
       "      <td>1.0</td>\n",
       "      <td>-2.0</td>\n",
       "      <td>0.0</td>\n",
       "      <td>2.0</td>\n",
       "      <td>9</td>\n",
       "    </tr>\n",
       "    <tr>\n",
       "      <th>4</th>\n",
       "      <td>0.0</td>\n",
       "      <td>4.0</td>\n",
       "      <td>1.0</td>\n",
       "      <td>-2.0</td>\n",
       "      <td>-1.0</td>\n",
       "      <td>2.0</td>\n",
       "      <td>9</td>\n",
       "    </tr>\n",
       "  </tbody>\n",
       "</table>\n",
       "</div>"
      ],
      "text/plain": [
       "   grocery_and_pharmacy_percent_change_from_baseline  \\\n",
       "0                                                4.0   \n",
       "1                                                4.0   \n",
       "2                                                1.0   \n",
       "3                                                1.0   \n",
       "4                                                0.0   \n",
       "\n",
       "   parks_percent_change_from_baseline  \\\n",
       "0                                 5.0   \n",
       "1                                 4.0   \n",
       "2                                 5.0   \n",
       "3                                 5.0   \n",
       "4                                 4.0   \n",
       "\n",
       "   residential_percent_change_from_baseline  \\\n",
       "0                                       1.0   \n",
       "1                                       1.0   \n",
       "2                                       1.0   \n",
       "3                                       1.0   \n",
       "4                                       1.0   \n",
       "\n",
       "   retail_and_recreation_percent_change_from_baseline  \\\n",
       "0                                                0.0    \n",
       "1                                                1.0    \n",
       "2                                               -1.0    \n",
       "3                                               -2.0    \n",
       "4                                               -2.0    \n",
       "\n",
       "   transit_stations_percent_change_from_baseline  \\\n",
       "0                                            0.0   \n",
       "1                                            1.0   \n",
       "2                                            1.0   \n",
       "3                                            0.0   \n",
       "4                                           -1.0   \n",
       "\n",
       "   workplaces_percent_change_from_baseline  confirmed_cases  \n",
       "0                                      2.0                8  \n",
       "1                                      2.0                9  \n",
       "2                                      2.0                9  \n",
       "3                                      2.0                9  \n",
       "4                                      2.0                9  "
      ]
     },
     "execution_count": 82,
     "metadata": {},
     "output_type": "execute_result"
    }
   ],
   "source": [
    "covid.head()"
   ]
  },
  {
   "cell_type": "code",
   "execution_count": 83,
   "id": "ac5d3cea",
   "metadata": {},
   "outputs": [],
   "source": [
    "covid_data = covid.values"
   ]
  },
  {
   "cell_type": "code",
   "execution_count": 84,
   "id": "da3042c6",
   "metadata": {},
   "outputs": [
    {
     "data": {
      "text/plain": [
       "array([[ 4.0000e+00,  5.0000e+00,  1.0000e+00, ...,  0.0000e+00,\n",
       "         2.0000e+00,  8.0000e+00],\n",
       "       [ 4.0000e+00,  4.0000e+00,  1.0000e+00, ...,  1.0000e+00,\n",
       "         2.0000e+00,  9.0000e+00],\n",
       "       [ 1.0000e+00,  5.0000e+00,  1.0000e+00, ...,  1.0000e+00,\n",
       "         2.0000e+00,  9.0000e+00],\n",
       "       ...,\n",
       "       [ 5.1000e+01,  2.5000e+01, -1.0000e+00, ...,  2.7000e+01,\n",
       "         1.5000e+01,  3.6678e+04],\n",
       "       [ 3.3000e+01,  1.4000e+01,  0.0000e+00, ...,  1.6000e+01,\n",
       "        -1.0000e+00,  3.6691e+04],\n",
       "       [ 3.4000e+01,  1.1000e+01,  1.0000e+00, ...,  7.0000e+00,\n",
       "        -1.0000e+00,  3.6704e+04]])"
      ]
     },
     "execution_count": 84,
     "metadata": {},
     "output_type": "execute_result"
    }
   ],
   "source": [
    "covid_data"
   ]
  },
  {
   "cell_type": "code",
   "execution_count": 85,
   "id": "aa093f7e",
   "metadata": {},
   "outputs": [],
   "source": [
    "X = covid_data[:, 0:6]"
   ]
  },
  {
   "cell_type": "code",
   "execution_count": 86,
   "id": "cb190432",
   "metadata": {},
   "outputs": [
    {
     "data": {
      "text/plain": [
       "(51375, 6)"
      ]
     },
     "execution_count": 86,
     "metadata": {},
     "output_type": "execute_result"
    }
   ],
   "source": [
    "X.shape"
   ]
  },
  {
   "cell_type": "code",
   "execution_count": 87,
   "id": "1d95d392",
   "metadata": {},
   "outputs": [
    {
     "data": {
      "text/plain": [
       "array([[ 4.,  5.,  1.,  0.,  0.,  2.],\n",
       "       [ 4.,  4.,  1.,  1.,  1.,  2.],\n",
       "       [ 1.,  5.,  1., -1.,  1.,  2.],\n",
       "       ...,\n",
       "       [51., 25., -1., 20., 27., 15.],\n",
       "       [33., 14.,  0., 11., 16., -1.],\n",
       "       [34., 11.,  1.,  7.,  7., -1.]])"
      ]
     },
     "execution_count": 87,
     "metadata": {},
     "output_type": "execute_result"
    }
   ],
   "source": [
    "X"
   ]
  },
  {
   "cell_type": "code",
   "execution_count": 88,
   "id": "31b5f3e9",
   "metadata": {},
   "outputs": [],
   "source": [
    "Y = covid_data[:, 6]"
   ]
  },
  {
   "cell_type": "code",
   "execution_count": 89,
   "id": "0246a2a1",
   "metadata": {},
   "outputs": [
    {
     "data": {
      "text/plain": [
       "array([8.0000e+00, 9.0000e+00, 9.0000e+00, ..., 3.6678e+04, 3.6691e+04,\n",
       "       3.6704e+04])"
      ]
     },
     "execution_count": 89,
     "metadata": {},
     "output_type": "execute_result"
    }
   ],
   "source": [
    "Y"
   ]
  },
  {
   "cell_type": "code",
   "execution_count": 25,
   "id": "f98b0208",
   "metadata": {},
   "outputs": [],
   "source": [
    "from sklearn.preprocessing import MinMaxScaler\n",
    "from sklearn.preprocessing import StandardScaler\n",
    "from sklearn.model_selection import train_test_split"
   ]
  },
  {
   "cell_type": "code",
   "execution_count": 90,
   "id": "bb9ec38e",
   "metadata": {},
   "outputs": [],
   "source": [
    "mms = MinMaxScaler()\n",
    "X_scaled = mms.fit_transform(X)"
   ]
  },
  {
   "cell_type": "code",
   "execution_count": 91,
   "id": "aa60fc9d",
   "metadata": {},
   "outputs": [
    {
     "data": {
      "text/plain": [
       "array([[0.39230769, 0.17017828, 0.4       , 0.57738095, 0.51851852,\n",
       "        0.55172414],\n",
       "       [0.39230769, 0.16855754, 0.4       , 0.58333333, 0.52380952,\n",
       "        0.55172414],\n",
       "       [0.38076923, 0.17017828, 0.4       , 0.57142857, 0.52380952,\n",
       "        0.55172414],\n",
       "       ...,\n",
       "       [0.57307692, 0.20259319, 0.37777778, 0.69642857, 0.66137566,\n",
       "        0.62643678],\n",
       "       [0.50384615, 0.18476499, 0.38888889, 0.64285714, 0.6031746 ,\n",
       "        0.53448276],\n",
       "       [0.50769231, 0.17990276, 0.4       , 0.61904762, 0.55555556,\n",
       "        0.53448276]])"
      ]
     },
     "execution_count": 91,
     "metadata": {},
     "output_type": "execute_result"
    }
   ],
   "source": [
    "X_scaled"
   ]
  },
  {
   "cell_type": "code",
   "execution_count": 92,
   "id": "3212fd14",
   "metadata": {},
   "outputs": [],
   "source": [
    "X_train, X_vt, Y_train, Y_vt = train_test_split(X_scaled, Y, test_size=0.2)"
   ]
  },
  {
   "cell_type": "code",
   "execution_count": 93,
   "id": "daa769e8",
   "metadata": {},
   "outputs": [],
   "source": [
    "X_test, X_val, Y_test, Y_val = train_test_split(X_vt, Y_vt, test_size=0.5)"
   ]
  },
  {
   "cell_type": "code",
   "execution_count": 94,
   "id": "079ad716",
   "metadata": {},
   "outputs": [
    {
     "name": "stdout",
     "output_type": "stream",
     "text": [
      "(41100, 6) (5138, 6) (5137, 6) (41100,) (5138,) (5137,)\n"
     ]
    }
   ],
   "source": [
    "print(X_train.shape, X_val.shape, X_test.shape, Y_train.shape, Y_val.shape, Y_test.shape)"
   ]
  },
  {
   "cell_type": "code",
   "execution_count": 95,
   "id": "ea511b70",
   "metadata": {},
   "outputs": [],
   "source": [
    "from tensorflow.keras.models import Sequential\n",
    "from tensorflow.keras.layers import Dense, Dropout, Flatten, LSTM"
   ]
  },
  {
   "cell_type": "code",
   "execution_count": 97,
   "id": "a4545e43",
   "metadata": {},
   "outputs": [],
   "source": [
    "model = Sequential([\n",
    "    Dense(32, activation='relu', input_shape=(6,)),\n",
    "    Dense(64, activation='relu'),\n",
    "    Dropout(0.25),\n",
    "    Dense(128, activation='relu'),\n",
    "    Dense(64, activation='relu'),\n",
    "    Dropout(0.25),\n",
    "    Dense(32, activation='relu'),\n",
    "    Dense(1, activation='sigmoid')\n",
    "])"
   ]
  },
  {
   "cell_type": "code",
   "execution_count": 100,
   "id": "eefc18f5",
   "metadata": {},
   "outputs": [],
   "source": [
    "model = Sequential([\n",
    "    Dense(32, activation='relu', input_shape=(6,)),\n",
    "    Dropout(0.25),\n",
    "    Dense(32, activation='relu'),\n",
    "    Dense(1, activation='sigmoid')\n",
    "])"
   ]
  },
  {
   "cell_type": "code",
   "execution_count": 61,
   "id": "d6a76b1c",
   "metadata": {},
   "outputs": [],
   "source": [
    "model = Sequential([LSTM(50, input_shape=(12,15), return_sequences = False),\n",
    "                   Dropout(0.8),\n",
    "                   Dense(1, activation = 'sigmoid')])"
   ]
  },
  {
   "cell_type": "code",
   "execution_count": 105,
   "id": "30025b62",
   "metadata": {},
   "outputs": [],
   "source": [
    "model.compile(optimizer='sgd',\n",
    "              loss='binary_crossentropy',\n",
    "              metrics=['accuracy'])"
   ]
  },
  {
   "cell_type": "code",
   "execution_count": 104,
   "id": "8085f744",
   "metadata": {},
   "outputs": [
    {
     "name": "stdout",
     "output_type": "stream",
     "text": [
      "Epoch 1/10\n",
      "2569/2569 - 2s - loss: -2.3145e+09 - accuracy: 0.0076 - val_loss: -7.8834e+09 - val_accuracy: 0.0090 - 2s/epoch - 747us/step\n",
      "Epoch 2/10\n",
      "2569/2569 - 2s - loss: -2.2573e+10 - accuracy: 0.0076 - val_loss: -4.2330e+10 - val_accuracy: 0.0090 - 2s/epoch - 630us/step\n",
      "Epoch 3/10\n",
      "2569/2569 - 2s - loss: -7.6404e+10 - accuracy: 0.0076 - val_loss: -1.1444e+11 - val_accuracy: 0.0090 - 2s/epoch - 629us/step\n",
      "Epoch 4/10\n",
      "2569/2569 - 2s - loss: -1.7032e+11 - accuracy: 0.0076 - val_loss: -2.3000e+11 - val_accuracy: 0.0090 - 2s/epoch - 631us/step\n",
      "Epoch 5/10\n",
      "2569/2569 - 2s - loss: -3.1077e+11 - accuracy: 0.0076 - val_loss: -3.9654e+11 - val_accuracy: 0.0090 - 2s/epoch - 633us/step\n",
      "Epoch 6/10\n",
      "2569/2569 - 2s - loss: -5.1040e+11 - accuracy: 0.0076 - val_loss: -6.2405e+11 - val_accuracy: 0.0090 - 2s/epoch - 638us/step\n",
      "Epoch 7/10\n",
      "2569/2569 - 2s - loss: -7.7797e+11 - accuracy: 0.0076 - val_loss: -9.2405e+11 - val_accuracy: 0.0090 - 2s/epoch - 637us/step\n",
      "Epoch 8/10\n",
      "2569/2569 - 2s - loss: -1.1215e+12 - accuracy: 0.0076 - val_loss: -1.3060e+12 - val_accuracy: 0.0090 - 2s/epoch - 636us/step\n",
      "Epoch 9/10\n",
      "2569/2569 - 2s - loss: -1.5543e+12 - accuracy: 0.0076 - val_loss: -1.7752e+12 - val_accuracy: 0.0090 - 2s/epoch - 656us/step\n",
      "Epoch 10/10\n",
      "2569/2569 - 2s - loss: -2.0786e+12 - accuracy: 0.0076 - val_loss: -2.3408e+12 - val_accuracy: 0.0090 - 2s/epoch - 637us/step\n"
     ]
    }
   ],
   "source": [
    "hist = model.fit(X_train, Y_train,\n",
    "          batch_size=16, epochs=10, \n",
    "          validation_data=(X_val, Y_val),\n",
    "                verbose = 2)"
   ]
  },
  {
   "cell_type": "code",
   "execution_count": 106,
   "id": "153e9db2",
   "metadata": {
    "scrolled": true
   },
   "outputs": [
    {
     "name": "stdout",
     "output_type": "stream",
     "text": [
      "161/161 [==============================] - 0s 506us/step - loss: -2163034030080.0000 - accuracy: 0.0070\n"
     ]
    },
    {
     "data": {
      "text/plain": [
       "0.007007981184870005"
      ]
     },
     "execution_count": 106,
     "metadata": {},
     "output_type": "execute_result"
    }
   ],
   "source": [
    "model.evaluate(X_test, Y_test)[1]"
   ]
  },
  {
   "cell_type": "code",
   "execution_count": 107,
   "id": "087183af",
   "metadata": {
    "scrolled": false
   },
   "outputs": [
    {
     "name": "stdout",
     "output_type": "stream",
     "text": [
      "161/161 [==============================] - 0s 423us/step\n"
     ]
    },
    {
     "data": {
      "text/plain": [
       "array([[1.],\n",
       "       [1.],\n",
       "       [1.],\n",
       "       ...,\n",
       "       [1.],\n",
       "       [1.],\n",
       "       [1.]], dtype=float32)"
      ]
     },
     "execution_count": 107,
     "metadata": {},
     "output_type": "execute_result"
    }
   ],
   "source": [
    "model.predict(X_test)"
   ]
  },
  {
   "cell_type": "code",
   "execution_count": 118,
   "id": "2ce23615",
   "metadata": {},
   "outputs": [
    {
     "name": "stdout",
     "output_type": "stream",
     "text": [
      "1285/1285 [==============================] - 0s 365us/step\n",
      "161/161 [==============================] - 0s 369us/step\n"
     ]
    }
   ],
   "source": [
    "train = model.predict(X_train)\n",
    "test = model.predict(X_test)"
   ]
  },
  {
   "cell_type": "code",
   "execution_count": 121,
   "id": "e580c067",
   "metadata": {},
   "outputs": [
    {
     "data": {
      "image/png": "[encoded data removed]",
      "text/plain": [
       "<Figure size 640x480 with 1 Axes>"
      ]
     },
     "metadata": {},
     "output_type": "display_data"
    }
   ],
   "source": [
    "plt.plot(Y_test, color='r', label=\"RealData\")\n",
    "plt.plot(test, color='b', label='Predicted Test')\n",
    "plt.show()"
   ]
  },
  {
   "cell_type": "code",
   "execution_count": 110,
   "id": "30482d81",
   "metadata": {},
   "outputs": [
    {
     "data": {
      "image/png": "[encoded data removed]",
      "text/plain": [
       "<Figure size 640x480 with 1 Axes>"
      ]
     },
     "metadata": {},
     "output_type": "display_data"
    }
   ],
   "source": [
    "plt.plot(hist.history['loss'])\n",
    "plt.plot(hist.history['val_loss'])\n",
    "plt.title('Model loss')\n",
    "plt.ylabel('Loss')\n",
    "plt.xlabel('Epoch')\n",
    "plt.legend(['Train', 'Val'], loc='upper right')\n",
    "plt.show()"
   ]
  },
  {
   "cell_type": "code",
   "execution_count": 112,
   "id": "ea65fca0",
   "metadata": {},
   "outputs": [
    {
     "data": {
      "image/png": "[encoded data removed]",
      "text/plain": [
       "<Figure size 640x480 with 1 Axes>"
      ]
     },
     "metadata": {},
     "output_type": "display_data"
    }
   ],
   "source": [
    "plt.plot(hist.history['accuracy'])\n",
    "plt.plot(hist.history['val_accuracy'])\n",
    "plt.title('Model accuracy')\n",
    "plt.ylabel('Accuracy')\n",
    "plt.xlabel('Epoch')\n",
    "plt.legend(['Train', 'Val'], loc='lower right')\n",
    "plt.show()"
   ]
  },
  {
   "cell_type": "code",
   "execution_count": 114,
   "id": "a9cea6c7",
   "metadata": {},
   "outputs": [
    {
     "name": "stdout",
     "output_type": "stream",
     "text": [
      "Epoch 1/10\n",
      "1285/1285 [==============================] - 8s 6ms/step - loss: -855480313390825472.0000 - accuracy: 0.0076 - val_loss: -5102296353078247424.0000 - val_accuracy: 0.0090\n",
      "Epoch 2/10\n",
      "1285/1285 [==============================] - 8s 6ms/step - loss: -42050962941781475328.0000 - accuracy: 0.0076 - val_loss: -112431238797397590016.0000 - val_accuracy: 0.0090\n",
      "Epoch 3/10\n",
      "1285/1285 [==============================] - 8s 6ms/step - loss: -295615505484413403136.0000 - accuracy: 0.0076 - val_loss: -552902563390136778752.0000 - val_accuracy: 0.0090\n",
      "Epoch 4/10\n",
      "1285/1285 [==============================] - 8s 6ms/step - loss: -1046875173812409729024.0000 - accuracy: 0.0076 - val_loss: -1678029258471736606720.0000 - val_accuracy: 0.0090\n",
      "Epoch 5/10\n",
      "1285/1285 [==============================] - 8s 6ms/step - loss: -2756249696796877520896.0000 - accuracy: 0.0076 - val_loss: -3977127142081024753664.0000 - val_accuracy: 0.0090\n",
      "Epoch 6/10\n",
      "1285/1285 [==============================] - 8s 6ms/step - loss: -5882172865406834835456.0000 - accuracy: 0.0076 - val_loss: -7949841882427133263872.0000 - val_accuracy: 0.0090\n",
      "Epoch 7/10\n",
      "1285/1285 [==============================] - 8s 6ms/step - loss: -10976815900674179989504.0000 - accuracy: 0.0076 - val_loss: -14244351944817035444224.0000 - val_accuracy: 0.0090\n",
      "Epoch 8/10\n",
      "1285/1285 [==============================] - 8s 6ms/step - loss: nan - accuracy: 0.0445 - val_loss: nan - val_accuracy: 0.0549\n",
      "Epoch 9/10\n",
      "1285/1285 [==============================] - 8s 6ms/step - loss: nan - accuracy: 0.0564 - val_loss: nan - val_accuracy: 0.0549\n",
      "Epoch 10/10\n",
      "1285/1285 [==============================] - 8s 6ms/step - loss: nan - accuracy: 0.0564 - val_loss: nan - val_accuracy: 0.0549\n"
     ]
    }
   ],
   "source": [
    "model_2 = Sequential([\n",
    "    Dense(1000, activation='relu', input_shape=(6,)),\n",
    "    Dense(1000, activation='relu'),\n",
    "    Dense(1000, activation='relu'),\n",
    "    Dense(1000, activation='relu'),\n",
    "    Dense(1, activation='sigmoid'),\n",
    "])\n",
    "\n",
    "model_2.compile(optimizer='adam',\n",
    "              loss='binary_crossentropy',\n",
    "              metrics=['accuracy'])\n",
    "              \n",
    "hist_2 = model_2.fit(X_train, Y_train,\n",
    "          batch_size=32, epochs=10,\n",
    "          validation_data=(X_val, Y_val))"
   ]
  },
  {
   "cell_type": "code",
   "execution_count": 115,
   "id": "57104420",
   "metadata": {},
   "outputs": [
    {
     "data": {
      "image/png": "[encoded data removed]",
      "text/plain": [
       "<Figure size 640x480 with 1 Axes>"
      ]
     },
     "metadata": {},
     "output_type": "display_data"
    }
   ],
   "source": [
    "plt.plot(hist_2.history['loss'])\n",
    "plt.plot(hist_2.history['val_loss'])\n",
    "plt.title('Model loss')\n",
    "plt.ylabel('Loss')\n",
    "plt.xlabel('Epoch')\n",
    "plt.legend(['Train', 'Val'], loc='upper right')\n",
    "plt.show()"
   ]
  },
  {
   "cell_type": "code",
   "execution_count": 117,
   "id": "0f196b02",
   "metadata": {},
   "outputs": [
    {
     "data": {
      "image/png": "[encoded data removed]",
      "text/plain": [
       "<Figure size 640x480 with 1 Axes>"
      ]
     },
     "metadata": {},
     "output_type": "display_data"
    }
   ],
   "source": [
    "plt.plot(hist_2.history['accuracy'])\n",
    "plt.plot(hist_2.history['val_accuracy'])\n",
    "plt.title('Model accuracy')\n",
    "plt.ylabel('Accuracy')\n",
    "plt.xlabel('Epoch')\n",
    "plt.legend(['Train', 'Val'], loc='lower right')\n",
    "plt.show()"
   ]
  },
  {
   "cell_type": "markdown",
   "id": "e65388f7",
   "metadata": {},
   "source": [
    "### Kesimpulan\n",
    "\n",
    "\n",
    "\n",
    "Berikan simpulan yang dilakukan dari hasil kerja menggunakan algoritma dan 2 dataset yang\n",
    "dipilih. Simpulan bisa berkisar antara (bisa di modifikasi):\n",
    "\n",
    "    - Simpulan perbandingan dataset\n",
    "    - Hasil akurasi yang diberikan (jika ada dalam modul)\n",
    "    - Hasil perbandingan akurasi antara algoritma (jika ada dalam modul)\n",
    "    - Hasil pemikiran dan observasi akhir dari kerja menurut mahasiswa."
   ]
  },
  {
   "cell_type": "code",
   "execution_count": 37,
   "id": "60b9b4ca",
   "metadata": {},
   "outputs": [
    {
     "name": "stdout",
     "output_type": "stream",
     "text": [
      "I certify that this is my own work.\n",
      "Signed by:\n",
      "Name: \tAntonius Kevin Budi Saputra\n",
      "NIM: \t45444\n",
      "Time-stamp:\t2022-11-24 12:02:44.899505\n"
     ]
    }
   ],
   "source": [
    "# Footer\n",
    "myDate = datetime.datetime.now()\n",
    "print(\"I certify that this is my own work.\")\n",
    "print(\"Signed by:\")\n",
    "print(\"Name: \\t{}\".format(myName))\n",
    "print(\"NIM: \\t{}\".format(myNIM))\n",
    "print(\"Time-stamp:\\t{}\".format(myDate))"
   ]
  },
  {
   "cell_type": "markdown",
   "id": "115e24b4",
   "metadata": {},
   "source": [
    "***\n",
    "\n",
    "### Save the notebook, then convert the notebook to html (by running the next code)."
   ]
  },
  {
   "cell_type": "code",
   "execution_count": 38,
   "id": "1e86341c",
   "metadata": {},
   "outputs": [
    {
     "name": "stdout",
     "output_type": "stream",
     "text": [
      "[NbConvertApp] WARNING | Config option `kernel_spec_manager_class` not recognized by `NbConvertApp`.\n",
      "[NbConvertApp] Converting notebook ./IF540L_kelas_A_laporan_MXX_45444_Antonius Kevin.ipynb to html\n",
      "[NbConvertApp] Writing 639785 bytes to IF540L_kelas_A_laporan_MXX_45444_Antonius Kevin.html\n"
     ]
    }
   ],
   "source": [
    "!jupyter nbconvert --to html \"./IF540L_kelas_A_laporan_MXX_45444_Antonius Kevin.ipynb\" --output-dir=\"./\""
   ]
  },
  {
   "cell_type": "markdown",
   "id": "e16a0495",
   "metadata": {},
   "source": [
    "### Next step:\n",
    "* convert the generated html file to PDF using the online tool: https://www.sejda.com/html-to-pdf\n",
    "* choose the following settings:\n",
    "    * Page size: One long page\n",
    "    * Page Orientation: auto\n",
    "    * Use print stylesheet\n",
    "* Submit your ipython notebook and PDF files\n",
    "\n",
    "Markdown basics https://markdown-guide.readthedocs.io/en/latest/basics.html#"
   ]
  },
  {
   "cell_type": "code",
   "execution_count": null,
   "id": "0b6add1a",
   "metadata": {},
   "outputs": [],
   "source": []
  }
 ],
 "metadata": {
  "kernelspec": {
   "display_name": "Python 3 (ipykernel)",
   "language": "python",
   "name": "python3"
  },
  "language_info": {
   "codemirror_mode": {
    "name": "ipython",
    "version": 3
   },
   "file_extension": ".py",
   "mimetype": "text/x-python",
   "name": "python",
   "nbconvert_exporter": "python",
   "pygments_lexer": "ipython3",
   "version": "3.10.6"
  },
  "vscode": {
   "interpreter": {
    "hash": "40d3a090f54c6569ab1632332b64b2c03c39dcf918b08424e98f38b5ae0af88f"
   }
  }
 },
 "nbformat": 4,
 "nbformat_minor": 5
}
